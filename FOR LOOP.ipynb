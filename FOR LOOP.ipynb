{
  "metadata": {
    "kernelspec": {
      "name": "python",
      "display_name": "Python (Pyodide)",
      "language": "python"
    },
    "language_info": {
      "codemirror_mode": {
        "name": "python",
        "version": 3
      },
      "file_extension": ".py",
      "mimetype": "text/x-python",
      "name": "python",
      "nbconvert_exporter": "python",
      "pygments_lexer": "ipython3",
      "version": "3.8"
    }
  },
  "nbformat_minor": 4,
  "nbformat": 4,
  "cells": [
    {
      "cell_type": "code",
      "source": "a=[1,2,3,4,5]\ndef rotation(a,n):\n    if not a:\n        return a\n    n%=len(a)\n    return a[-n:]+a[:-n]\nresult=rotation(a,3)\nprint(result)",
      "metadata": {
        "trusted": true
      },
      "outputs": [
        {
          "name": "stdout",
          "text": "[3, 4, 5, 1, 2]\n",
          "output_type": "stream"
        }
      ],
      "execution_count": 3
    },
    {
      "cell_type": "code",
      "source": "a=[[1,2,3], [3,4,5] ,[5,6,7]]\nb=[[1,2,3], [4,5,6], [7,8,9]]\nc=[[0,0,0], [0,0,0] ,[0,0,0]]\nfor i in range(len(a)):\n    for j in range(len(a[0])):\n        c[i][j]=a[i][j]+b[i][j]\nprint(c)    ",
      "metadata": {
        "trusted": true
      },
      "outputs": [
        {
          "name": "stdout",
          "text": "[[2, 4, 6], [7, 9, 11], [12, 14, 16]]\n",
          "output_type": "stream"
        }
      ],
      "execution_count": 7
    },
    {
      "cell_type": "code",
      "source": "a=[[1,2,3], [3,4,5] ,[5,6,7]]\nb=[[1,2,3], [4,5,6], [7,8,9]]\nc=[[0,0,0], [0,0,0] ,[0,0,0]]\nfor i in range(len(a)):\n    for j in range(len(a[0])):\n        for k in range(len(b)):\n            c[i][j]=a[i][k]*b[k][j]\nprint(c)    ",
      "metadata": {
        "trusted": true
      },
      "outputs": [
        {
          "name": "stdout",
          "text": "[[21, 24, 27], [35, 40, 45], [49, 56, 63]]\n",
          "output_type": "stream"
        }
      ],
      "execution_count": 12
    },
    {
      "cell_type": "code",
      "source": "a=[[1,2,3], [3,4,5] ,[5,6,7]]\nc=[[0,0,0], [0,0,0] ,[0,0,0]]\nfor i in range(len(a)):\n    for j in range(len(a[0])):\n        c[j][i]=a[i][j]\nprint(c)",
      "metadata": {
        "trusted": true
      },
      "outputs": [
        {
          "name": "stdout",
          "text": "[[1, 3, 5], [2, 4, 6], [3, 5, 7]]\n",
          "output_type": "stream"
        }
      ],
      "execution_count": 13
    },
    {
      "cell_type": "code",
      "source": "row=3\ncols=3\nmatrix=[]\nfor i in range(row):\n    row=[]\n    for j in range(cols):\n        row.append(0)\n    matrix.append(row)\nfor row in matrix:\n    print(row)",
      "metadata": {
        "trusted": true
      },
      "outputs": [
        {
          "name": "stdout",
          "text": "[0, 0, 0]\n[0, 0, 0]\n[0, 0, 0]\n",
          "output_type": "stream"
        }
      ],
      "execution_count": 15
    },
    {
      "cell_type": "code",
      "source": "",
      "metadata": {
        "trusted": true
      },
      "outputs": [],
      "execution_count": null
    }
  ]
}