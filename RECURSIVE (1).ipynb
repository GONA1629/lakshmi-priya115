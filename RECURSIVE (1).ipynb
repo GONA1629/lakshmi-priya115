{
  "metadata": {
    "kernelspec": {
      "name": "python",
      "display_name": "Python (Pyodide)",
      "language": "python"
    },
    "language_info": {
      "codemirror_mode": {
        "name": "python",
        "version": 3
      },
      "file_extension": ".py",
      "mimetype": "text/x-python",
      "name": "python",
      "nbconvert_exporter": "python",
      "pygments_lexer": "ipython3",
      "version": "3.8"
    }
  },
  "nbformat_minor": 4,
  "nbformat": 4,
  "cells": [
    {
      "cell_type": "code",
      "source": "def move(a,b):\n    print(\"move\",a,\"to\",b)\ndef towerofhanoi(n,A,B,C):\n    if n==1:\n        move(A,C)\n    else:\n        towerofhanoi(n-1,A,C,B)\n        move(A,C)\n        towerofhanoi(n-1,B,A,C)\nn=4\ntowerofhanoi(n,\"A\",\"B\",\"C\")",
      "metadata": {
        "trusted": true
      },
      "outputs": [
        {
          "name": "stdout",
          "text": "move A to B\nmove A to C\nmove B to C\nmove A to B\nmove C to A\nmove C to B\nmove A to B\nmove A to C\nmove B to C\nmove B to A\nmove C to A\nmove B to C\nmove A to B\nmove A to C\nmove B to C\n",
          "output_type": "stream"
        }
      ],
      "execution_count": 4
    },
    {
      "cell_type": "code",
      "source": "",
      "metadata": {
        "trusted": true
      },
      "outputs": [],
      "execution_count": null
    }
  ]
}