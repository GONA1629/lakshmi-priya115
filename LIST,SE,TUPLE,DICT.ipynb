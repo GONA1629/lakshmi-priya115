{
  "metadata": {
    "kernelspec": {
      "name": "python",
      "display_name": "Python (Pyodide)",
      "language": "python"
    },
    "language_info": {
      "codemirror_mode": {
        "name": "python",
        "version": 3
      },
      "file_extension": ".py",
      "mimetype": "text/x-python",
      "name": "python",
      "nbconvert_exporter": "python",
      "pygments_lexer": "ipython3",
      "version": "3.8"
    }
  },
  "nbformat_minor": 4,
  "nbformat": 4,
  "cells": [
    {
      "cell_type": "code",
      "source": "set1={2,3,4,5}\ntuple=(1,2,3,4)\nnew_set=set(tuple)\nunion=set1 | new_set\nprint(union)",
      "metadata": {
        "trusted": true
      },
      "outputs": [
        {
          "ename": "<class 'TypeError'>",
          "evalue": "'set' object is not callable",
          "traceback": [
            "\u001b[0;31m---------------------------------------------------------------------------\u001b[0m",
            "\u001b[0;31mTypeError\u001b[0m                                 Traceback (most recent call last)",
            "Cell \u001b[0;32mIn[7], line 3\u001b[0m\n\u001b[1;32m      1\u001b[0m set1\u001b[38;5;241m=\u001b[39m{\u001b[38;5;241m2\u001b[39m,\u001b[38;5;241m3\u001b[39m,\u001b[38;5;241m4\u001b[39m,\u001b[38;5;241m5\u001b[39m}\n\u001b[1;32m      2\u001b[0m \u001b[38;5;28mtuple\u001b[39m\u001b[38;5;241m=\u001b[39m(\u001b[38;5;241m1\u001b[39m,\u001b[38;5;241m2\u001b[39m,\u001b[38;5;241m3\u001b[39m,\u001b[38;5;241m4\u001b[39m)\n\u001b[0;32m----> 3\u001b[0m new_set\u001b[38;5;241m=\u001b[39m\u001b[38;5;28;43mset\u001b[39;49m\u001b[43m(\u001b[49m\u001b[38;5;28;43mtuple\u001b[39;49m\u001b[43m)\u001b[49m\n\u001b[1;32m      4\u001b[0m union\u001b[38;5;241m=\u001b[39mset1 \u001b[38;5;241m|\u001b[39m new_set\n\u001b[1;32m      5\u001b[0m \u001b[38;5;28mprint\u001b[39m(union)\n",
            "\u001b[0;31mTypeError\u001b[0m: 'set' object is not callable"
          ],
          "output_type": "error"
        }
      ],
      "execution_count": 7
    },
    {
      "cell_type": "code",
      "source": "def (set1,tiple):\nset1 = {2, 3, 4, 5}\ntiple = (1, 2, 3, 4)\n\n# Convert tuple to set\nnew_set = set(tiple)\n\n# Perform the union of two sets\nunion = set1 | new_set\n\nprint(union)\n",
      "metadata": {
        "trusted": true
      },
      "outputs": [
        {
          "ename": "<class 'SyntaxError'>",
          "evalue": "invalid syntax (<ipython-input-10-d92e8cad9c2f>, line 1)",
          "traceback": [
            "\u001b[0;36m  Cell \u001b[0;32mIn[10], line 1\u001b[0;36m\u001b[0m\n\u001b[0;31m    def (set1,tiple):\u001b[0m\n\u001b[0m        ^\u001b[0m\n\u001b[0;31mSyntaxError\u001b[0m\u001b[0;31m:\u001b[0m invalid syntax\n"
          ],
          "output_type": "error"
        }
      ],
      "execution_count": 10
    },
    {
      "cell_type": "code",
      "source": "set1 = {2, 3, 4, 5}  # Define the set\ntiple = (1, 2, 3, 4)  # Define the tuple\n\n# Convert the tuple to a set\nnew_set = set(tiple)\n\n# Perform the union of two sets\nunion = set1 | new_set\n\nprint(union)\n",
      "metadata": {
        "trusted": true
      },
      "outputs": [
        {
          "ename": "<class 'TypeError'>",
          "evalue": "'set' object is not callable",
          "traceback": [
            "\u001b[0;31m---------------------------------------------------------------------------\u001b[0m",
            "\u001b[0;31mTypeError\u001b[0m                                 Traceback (most recent call last)",
            "Cell \u001b[0;32mIn[6], line 5\u001b[0m\n\u001b[1;32m      2\u001b[0m tiple \u001b[38;5;241m=\u001b[39m (\u001b[38;5;241m1\u001b[39m, \u001b[38;5;241m2\u001b[39m, \u001b[38;5;241m3\u001b[39m, \u001b[38;5;241m4\u001b[39m)  \u001b[38;5;66;03m# Define the tuple\u001b[39;00m\n\u001b[1;32m      4\u001b[0m \u001b[38;5;66;03m# Convert the tuple to a set\u001b[39;00m\n\u001b[0;32m----> 5\u001b[0m new_set \u001b[38;5;241m=\u001b[39m \u001b[38;5;28;43mset\u001b[39;49m\u001b[43m(\u001b[49m\u001b[43mtiple\u001b[49m\u001b[43m)\u001b[49m\n\u001b[1;32m      7\u001b[0m \u001b[38;5;66;03m# Perform the union of two sets\u001b[39;00m\n\u001b[1;32m      8\u001b[0m union \u001b[38;5;241m=\u001b[39m set1 \u001b[38;5;241m|\u001b[39m new_set\n",
            "\u001b[0;31mTypeError\u001b[0m: 'set' object is not callable"
          ],
          "output_type": "error"
        }
      ],
      "execution_count": 6
    },
    {
      "cell_type": "code",
      "source": "set1 = {2, 3, 4, 5}  # Define the set\ntuple1 = (1, 2, 3, 4)  # Define the tuple, rename from 'tuple' to 'tuple1'\n\n# Convert the tuple to a set\nnew_set = set(tuple1)\n\n# Perform the union of two sets\nunion = set1 | new_set\n\nprint(union)\n",
      "metadata": {
        "trusted": true
      },
      "outputs": [
        {
          "ename": "<class 'TypeError'>",
          "evalue": "'set' object is not callable",
          "traceback": [
            "\u001b[0;31m---------------------------------------------------------------------------\u001b[0m",
            "\u001b[0;31mTypeError\u001b[0m                                 Traceback (most recent call last)",
            "Cell \u001b[0;32mIn[11], line 5\u001b[0m\n\u001b[1;32m      2\u001b[0m tuple1 \u001b[38;5;241m=\u001b[39m (\u001b[38;5;241m1\u001b[39m, \u001b[38;5;241m2\u001b[39m, \u001b[38;5;241m3\u001b[39m, \u001b[38;5;241m4\u001b[39m)  \u001b[38;5;66;03m# Define the tuple, rename from 'tuple' to 'tuple1'\u001b[39;00m\n\u001b[1;32m      4\u001b[0m \u001b[38;5;66;03m# Convert the tuple to a set\u001b[39;00m\n\u001b[0;32m----> 5\u001b[0m new_set \u001b[38;5;241m=\u001b[39m \u001b[38;5;28;43mset\u001b[39;49m\u001b[43m(\u001b[49m\u001b[43mtuple1\u001b[49m\u001b[43m)\u001b[49m\n\u001b[1;32m      7\u001b[0m \u001b[38;5;66;03m# Perform the union of two sets\u001b[39;00m\n\u001b[1;32m      8\u001b[0m union \u001b[38;5;241m=\u001b[39m set1 \u001b[38;5;241m|\u001b[39m new_set\n",
            "\u001b[0;31mTypeError\u001b[0m: 'set' object is not callable"
          ],
          "output_type": "error"
        }
      ],
      "execution_count": 11
    },
    {
      "cell_type": "code",
      "source": "def flatten(nested_list):\n    flattened = []\n    for element in nested_list:\n        if isinstance(element, list):  # If the element is a list\n            flattened.extend(flatten(element))  # Recursively flatten it\n        else:\n            flattened.append(element)  # If it's not a list, add it to the flattened list\n    return flattened\n\n# Example\nnested_list = [[1, 2, [3]], 4, [5, 6]]\nflattened_list = flatten(nested_list)\nprint(flattened_list)\n",
      "metadata": {
        "trusted": true
      },
      "outputs": [
        {
          "name": "stdout",
          "text": "[1, 2, 3, 4, 5, 6]\n",
          "output_type": "stream"
        }
      ],
      "execution_count": 12
    },
    {
      "cell_type": "code",
      "source": "nested_list = [[1, 2, [3]], 4, [5, 6]]\nflattened_list = [item for sublist in nested_list for item in sublist]\nprint(flattened_list)",
      "metadata": {
        "trusted": true
      },
      "outputs": [
        {
          "ename": "<class 'TypeError'>",
          "evalue": "'int' object is not iterable",
          "traceback": [
            "\u001b[0;31m---------------------------------------------------------------------------\u001b[0m",
            "\u001b[0;31mTypeError\u001b[0m                                 Traceback (most recent call last)",
            "Cell \u001b[0;32mIn[13], line 2\u001b[0m\n\u001b[1;32m      1\u001b[0m nested_list \u001b[38;5;241m=\u001b[39m [[\u001b[38;5;241m1\u001b[39m, \u001b[38;5;241m2\u001b[39m, [\u001b[38;5;241m3\u001b[39m]], \u001b[38;5;241m4\u001b[39m, [\u001b[38;5;241m5\u001b[39m, \u001b[38;5;241m6\u001b[39m]]\n\u001b[0;32m----> 2\u001b[0m flattened_list \u001b[38;5;241m=\u001b[39m \u001b[43m[\u001b[49m\u001b[43mitem\u001b[49m\u001b[43m \u001b[49m\u001b[38;5;28;43;01mfor\u001b[39;49;00m\u001b[43m \u001b[49m\u001b[43msublist\u001b[49m\u001b[43m \u001b[49m\u001b[38;5;129;43;01min\u001b[39;49;00m\u001b[43m \u001b[49m\u001b[43mnested_list\u001b[49m\u001b[43m \u001b[49m\u001b[38;5;28;43;01mfor\u001b[39;49;00m\u001b[43m \u001b[49m\u001b[43mitem\u001b[49m\u001b[43m \u001b[49m\u001b[38;5;129;43;01min\u001b[39;49;00m\u001b[43m \u001b[49m\u001b[43msublist\u001b[49m\u001b[43m]\u001b[49m\n\u001b[1;32m      3\u001b[0m \u001b[38;5;28mprint\u001b[39m(flattened_list)\n",
            "\u001b[0;31mTypeError\u001b[0m: 'int' object is not iterable"
          ],
          "output_type": "error"
        }
      ],
      "execution_count": 13
    },
    {
      "cell_type": "code",
      "source": "def flatten(nested_list):\n    flattened = []\n    for element in nested_list:\n        if isinstance(element, list):  # If the element is a list\n            flattened.extend(flatten(element))  # Recursively flatten it\n        else:\n            flattened.append(element)  # If it's not a list, add it to the flattened list\n    return flattened\n\n# Example\nnested_list = [[1, 2, [3]], 4, [5, 6]]\nflattened_list = flatten(nested_list)\nprint(flattened_list)\n",
      "metadata": {
        "trusted": true
      },
      "outputs": [
        {
          "name": "stdout",
          "text": "[1, 2, 3, 4, 5, 6]\n",
          "output_type": "stream"
        }
      ],
      "execution_count": 14
    },
    {
      "cell_type": "code",
      "source": "def flattened(nested_list):\n    flattened=[]\n    for elements in nested_list:\n        if isinstance (element,list):\n            flattend.extend(flatten(element))\n        else:\n            flattened.append(element)\n    return flattened\nnested_list=[[1,2,[3]],4,[5,6]]\nflattend_list=flatten(nested_list)\nprint(flattened_list)",
      "metadata": {
        "trusted": true
      },
      "outputs": [
        {
          "name": "stdout",
          "text": "[1, 2, 3, 4, 5, 6]\n",
          "output_type": "stream"
        }
      ],
      "execution_count": 16
    },
    {
      "cell_type": "code",
      "source": "def rotate_list(lst, n):\n    # Step 1: Handle the case where n is larger than the length of the list\n    n = n % len(lst)  # This ensures we don't do unnecessary full rotations\n    \n    # Step 2: Rotate the list\n    return lst[-n:] + lst[:-n]  # Get the last n elements and append the rest\n\n# Example usage\nlst = [1, 2, 3, 4, 5]\nn = 3\nrotated_lst = rotate_list(lst, n)\nprint(rotated_lst)\n",
      "metadata": {
        "trusted": true
      },
      "outputs": [
        {
          "name": "stdout",
          "text": "[3, 4, 5, 1, 2]\n",
          "output_type": "stream"
        }
      ],
      "execution_count": 17
    },
    {
      "cell_type": "code",
      "source": "# List of tuples\nlst = [(1, 3), (2, 2), (3, 1)]\n\n# Sorting the list based on the second element of each tuple\nsorted_lst = sorted(lst, key=lambda x: x[1])\n\n# Output the sorted list\nprint(sorted_lst)\n",
      "metadata": {
        "trusted": true
      },
      "outputs": [
        {
          "name": "stdout",
          "text": "[(3, 1), (2, 2), (1, 3)]\n",
          "output_type": "stream"
        }
      ],
      "execution_count": 18
    },
    {
      "cell_type": "code",
      "source": "def flatten_tuple(tup_of_tups):\n    # Use a generator expression to flatten the tuple of tuples\n    return tuple(element for sub_tuple in tup_of_tups for element in sub_tuple)\n\n# Example usage:\ninput_tuple = ((1, 2), (3, 4), (5, 6))\nflattened_tuple = flatten_tuple(input_tuple)\nprint(flattened_tuple)",
      "metadata": {
        "trusted": true
      },
      "outputs": [
        {
          "ename": "<class 'TypeError'>",
          "evalue": "'tuple' object is not callable",
          "traceback": [
            "\u001b[0;31m---------------------------------------------------------------------------\u001b[0m",
            "\u001b[0;31mTypeError\u001b[0m                                 Traceback (most recent call last)",
            "Cell \u001b[0;32mIn[19], line 7\u001b[0m\n\u001b[1;32m      5\u001b[0m \u001b[38;5;66;03m# Example usage:\u001b[39;00m\n\u001b[1;32m      6\u001b[0m input_tuple \u001b[38;5;241m=\u001b[39m ((\u001b[38;5;241m1\u001b[39m, \u001b[38;5;241m2\u001b[39m), (\u001b[38;5;241m3\u001b[39m, \u001b[38;5;241m4\u001b[39m), (\u001b[38;5;241m5\u001b[39m, \u001b[38;5;241m6\u001b[39m))\n\u001b[0;32m----> 7\u001b[0m flattened_tuple \u001b[38;5;241m=\u001b[39m \u001b[43mflatten_tuple\u001b[49m\u001b[43m(\u001b[49m\u001b[43minput_tuple\u001b[49m\u001b[43m)\u001b[49m\n\u001b[1;32m      8\u001b[0m \u001b[38;5;28mprint\u001b[39m(flattened_tuple)\n",
            "Cell \u001b[0;32mIn[19], line 3\u001b[0m, in \u001b[0;36mflatten_tuple\u001b[0;34m(tup_of_tups)\u001b[0m\n\u001b[1;32m      1\u001b[0m \u001b[38;5;28;01mdef\u001b[39;00m \u001b[38;5;21mflatten_tuple\u001b[39m(tup_of_tups):\n\u001b[1;32m      2\u001b[0m     \u001b[38;5;66;03m# Use a generator expression to flatten the tuple of tuples\u001b[39;00m\n\u001b[0;32m----> 3\u001b[0m     \u001b[38;5;28;01mreturn\u001b[39;00m \u001b[38;5;28;43mtuple\u001b[39;49m\u001b[43m(\u001b[49m\u001b[43melement\u001b[49m\u001b[43m \u001b[49m\u001b[38;5;28;43;01mfor\u001b[39;49;00m\u001b[43m \u001b[49m\u001b[43msub_tuple\u001b[49m\u001b[43m \u001b[49m\u001b[38;5;129;43;01min\u001b[39;49;00m\u001b[43m \u001b[49m\u001b[43mtup_of_tups\u001b[49m\u001b[43m \u001b[49m\u001b[38;5;28;43;01mfor\u001b[39;49;00m\u001b[43m \u001b[49m\u001b[43melement\u001b[49m\u001b[43m \u001b[49m\u001b[38;5;129;43;01min\u001b[39;49;00m\u001b[43m \u001b[49m\u001b[43msub_tuple\u001b[49m\u001b[43m)\u001b[49m\n",
            "\u001b[0;31mTypeError\u001b[0m: 'tuple' object is not callable"
          ],
          "output_type": "error"
        }
      ],
      "execution_count": 19
    },
    {
      "cell_type": "code",
      "source": "# Define two sets\nset1 = {1, 2, 3, 4, 5}\nset2 = {2, 4}\n\n# Remove elements in set2 from set1 using difference_update\nset1.difference_update(set2)\nprint(\"Modified set1:\", set1)\n\n# Alternatively, using the -= operator\nset1 = {1, 2, 3, 4, 5}\nset1 -= set2\nprint(\"Modified set1:\", set1)\n",
      "metadata": {
        "trusted": true
      },
      "outputs": [
        {
          "name": "stdout",
          "text": "Modified set1: {1, 3, 5}\nModified set1: {1, 3, 5}\n",
          "output_type": "stream"
        }
      ],
      "execution_count": 20
    },
    {
      "cell_type": "code",
      "source": "def are_disjoint(set1, set2,my_set):\n    # Check if the intersection of set1 and set2 is empty\n    return set1 & set2 == my_set()\n\n# Example usage:\nset1 = {1, 2, 3}\nset2 = {4, 5, 6}\nset3 = {2, 4}\n\nprint(are_disjoint(set1, set2))  # True, because they have no elements in common\nprint(are_disjoint(set1, set3))  # False, because they have element '2' in common\n",
      "metadata": {
        "trusted": true
      },
      "outputs": [
        {
          "ename": "<class 'TypeError'>",
          "evalue": "are_disjoint() missing 1 required positional argument: 'my_set'",
          "traceback": [
            "\u001b[0;31m---------------------------------------------------------------------------\u001b[0m",
            "\u001b[0;31mTypeError\u001b[0m                                 Traceback (most recent call last)",
            "Cell \u001b[0;32mIn[23], line 10\u001b[0m\n\u001b[1;32m      7\u001b[0m set2 \u001b[38;5;241m=\u001b[39m {\u001b[38;5;241m4\u001b[39m, \u001b[38;5;241m5\u001b[39m, \u001b[38;5;241m6\u001b[39m}\n\u001b[1;32m      8\u001b[0m set3 \u001b[38;5;241m=\u001b[39m {\u001b[38;5;241m2\u001b[39m, \u001b[38;5;241m4\u001b[39m}\n\u001b[0;32m---> 10\u001b[0m \u001b[38;5;28mprint\u001b[39m(\u001b[43mare_disjoint\u001b[49m\u001b[43m(\u001b[49m\u001b[43mset1\u001b[49m\u001b[43m,\u001b[49m\u001b[43m \u001b[49m\u001b[43mset2\u001b[49m\u001b[43m)\u001b[49m)  \u001b[38;5;66;03m# True, because they have no elements in common\u001b[39;00m\n\u001b[1;32m     11\u001b[0m \u001b[38;5;28mprint\u001b[39m(are_disjoint(set1, set3))  \u001b[38;5;66;03m# False, because they have element '2' in common\u001b[39;00m\n",
            "\u001b[0;31mTypeError\u001b[0m: are_disjoint() missing 1 required positional argument: 'my_set'"
          ],
          "output_type": "error"
        }
      ],
      "execution_count": 23
    },
    {
      "cell_type": "code",
      "source": "",
      "metadata": {
        "trusted": true
      },
      "outputs": [],
      "execution_count": null
    }
  ]
}