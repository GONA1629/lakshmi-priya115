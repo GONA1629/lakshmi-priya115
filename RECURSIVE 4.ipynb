{
  "metadata": {
    "kernelspec": {
      "name": "python",
      "display_name": "Python (Pyodide)",
      "language": "python"
    },
    "language_info": {
      "codemirror_mode": {
        "name": "python",
        "version": 3
      },
      "file_extension": ".py",
      "mimetype": "text/x-python",
      "name": "python",
      "nbconvert_exporter": "python",
      "pygments_lexer": "ipython3",
      "version": "3.8"
    }
  },
  "nbformat_minor": 4,
  "nbformat": 4,
  "cells": [
    {
      "cell_type": "code",
      "source": "def factorial(n):\n    if n==0 or n==1:\n        return n\n    else:\n        return n*factorial(n-1)\nprint(factorial(5))",
      "metadata": {
        "trusted": true
      },
      "outputs": [
        {
          "name": "stdout",
          "text": "120\n",
          "output_type": "stream"
        }
      ],
      "execution_count": 1
    },
    {
      "cell_type": "code",
      "source": "def factorial(n):\n    if n==0 or n==1:\n        return 1\n    else:\n        return n*factorial(n-1)\nprint(factorial(6))",
      "metadata": {
        "trusted": true
      },
      "outputs": [
        {
          "name": "stdout",
          "text": "720\n",
          "output_type": "stream"
        }
      ],
      "execution_count": 3
    },
    {
      "cell_type": "code",
      "source": "def fib(n):\n    if n<=1:\n        return n\n    return fib(n-1)+fib(n-2)\nprint(fib(5))",
      "metadata": {
        "trusted": true
      },
      "outputs": [
        {
          "name": "stdout",
          "text": "5\n",
          "output_type": "stream"
        }
      ],
      "execution_count": 4
    },
    {
      "cell_type": "code",
      "source": "def sum_natural(n):\n    if n==1:\n        return 1\n    return n+sum_natural(n-1)\nprint(sum_natural(5))",
      "metadata": {
        "trusted": true
      },
      "outputs": [
        {
          "name": "stdout",
          "text": "15\n",
          "output_type": "stream"
        }
      ],
      "execution_count": 5
    },
    {
      "cell_type": "code",
      "source": "def power(x,y):\n    if y==0:\n        return 1\n    return x*power(x,y-1)\nprint(power(2,3))",
      "metadata": {
        "trusted": true
      },
      "outputs": [
        {
          "name": "stdout",
          "text": "8\n",
          "output_type": "stream"
        }
      ],
      "execution_count": 6
    },
    {
      "cell_type": "code",
      "source": "def palindrome(n):\n    if len(n)<=1:\n        return True\n    if n[0]!=n[-1]:\n        return False\n    return palindrome(n[1:-1])\nprint(palindrome(\"madam\"))",
      "metadata": {
        "trusted": true
      },
      "outputs": [
        {
          "name": "stdout",
          "text": "True\n",
          "output_type": "stream"
        }
      ],
      "execution_count": 10
    },
    {
      "cell_type": "code",
      "source": "def gcd(a,b):\n    if b==0:\n        return a\n    else:\n        return gcd(b,a%b)\nprint(gcd(48,18))",
      "metadata": {
        "trusted": true
      },
      "outputs": [
        {
          "name": "stdout",
          "text": "6\n",
          "output_type": "stream"
        }
      ],
      "execution_count": 11
    },
    {
      "cell_type": "code",
      "source": "def decimal_to_binary(n):\n    if n==0:\n        return \"\"\n    return decimal_to_binary(n//2)+str(n%2)\nprint(decimal_to_binary(10))",
      "metadata": {
        "trusted": true
      },
      "outputs": [
        {
          "name": "stdout",
          "text": "1010\n",
          "output_type": "stream"
        }
      ],
      "execution_count": 12
    },
    {
      "cell_type": "code",
      "source": "def sum_of_digits(n):\n    if n==0:\n        return 0\n    return n%10+sum_of_digits(n//10)\nprint(sum_of_digits(456))",
      "metadata": {
        "trusted": true
      },
      "outputs": [
        {
          "name": "stdout",
          "text": "15\n",
          "output_type": "stream"
        }
      ],
      "execution_count": 13
    },
    {
      "cell_type": "code",
      "source": "def reverse_string(n):\n    if len(n)==0:\n        return \"\"\n    return n[-1]+reverse_string(n[:-1])\nprint(reverse_string(\"priya\"))",
      "metadata": {
        "trusted": true
      },
      "outputs": [
        {
          "name": "stdout",
          "text": "ayirp\n",
          "output_type": "stream"
        }
      ],
      "execution_count": 14
    },
    {
      "cell_type": "code",
      "source": "def product_of_array(arr,n):\n    if n==0:\n        return arr[0]\n    return arr[n] * product_of_array(arr,n-1)\nprint(product_of_array([1,2,3,4],2))",
      "metadata": {
        "trusted": true
      },
      "outputs": [
        {
          "name": "stdout",
          "text": "6\n",
          "output_type": "stream"
        }
      ],
      "execution_count": 22
    },
    {
      "cell_type": "code",
      "source": "def product_of_array(arr, n):\n    if n == 0:\n        return arr[0]\n    return arr[n] * product_of_array(arr, n - 1)\nprint(product_of_array([1, 2, 3, 4], 3))",
      "metadata": {
        "trusted": true
      },
      "outputs": [
        {
          "name": "stdout",
          "text": "24\n",
          "output_type": "stream"
        }
      ],
      "execution_count": 19
    },
    {
      "cell_type": "code",
      "source": "def is_sorted(arr,n):\n    if n==1:\n        return True\n    return arr[n-1]>=arr[n-2] and is_sorted(arr,n-1)\nprint(is_sorted([1,2,3,4],4))     ",
      "metadata": {
        "trusted": true
      },
      "outputs": [
        {
          "name": "stdout",
          "text": "True\n",
          "output_type": "stream"
        }
      ],
      "execution_count": 24
    },
    {
      "cell_type": "code",
      "source": "def subsets(s):\n    if len(s)==0:\n        return [[]]\n    smaller_subsets=subsets(s[1:])\n    return smaller_subsets+[[s[0]]+ss for ss in smaller_subsets]\nprint(subsets([1,2,3]))",
      "metadata": {
        "trusted": true
      },
      "outputs": [
        {
          "name": "stdout",
          "text": "[[], [3], [2], [2, 3], [1], [1, 3], [1, 2], [1, 2, 3]]\n",
          "output_type": "stream"
        }
      ],
      "execution_count": 28
    },
    {
      "cell_type": "code",
      "source": "string=\"Programming\"\nvowels=\"aeiouAEIOU\"\ncount=sum(1 for char in string if char in vowels)\nprint(count)",
      "metadata": {
        "trusted": true
      },
      "outputs": [
        {
          "name": "stdout",
          "text": "3\n",
          "output_type": "stream"
        }
      ],
      "execution_count": 29
    },
    {
      "cell_type": "code",
      "source": "string=\"python is a popular programming language\"\nword_count=len(string.split())\nprint(word_count)",
      "metadata": {
        "trusted": true
      },
      "outputs": [
        {
          "name": "stdout",
          "text": "6\n",
          "output_type": "stream"
        }
      ],
      "execution_count": 30
    },
    {
      "cell_type": "code",
      "source": "import string\ninput=\"hello,world!\"\nnew=''.join(char for char in input if char not in string.punctuation)\nprint(new)",
      "metadata": {
        "trusted": true
      },
      "outputs": [
        {
          "name": "stdout",
          "text": "helloworld\n",
          "output_type": "stream"
        }
      ],
      "execution_count": 34
    },
    {
      "cell_type": "code",
      "source": "",
      "metadata": {
        "trusted": true
      },
      "outputs": [],
      "execution_count": null
    }
  ]
}